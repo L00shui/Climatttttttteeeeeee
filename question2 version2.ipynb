{
 "cells": [
  {
   "cell_type": "code",
   "execution_count": 25,
   "metadata": {},
   "outputs": [],
   "source": [
    "import numpy as np\n",
    "import pandas as pd\n",
    "from scipy.optimize import fsolve\n",
    "from scipy.stats import norm\n",
    "import matplotlib.pyplot as plt"
   ]
  },
  {
   "cell_type": "code",
   "execution_count": 26,
   "metadata": {},
   "outputs": [],
   "source": [
    "equity_his=pd.read_excel(\"climate_transition_risk.xlsx\")\n",
    "dne=pd.read_excel(\"climate_transition_risk.xlsx\",sheet_name=\"Exxon Financial Info\")\n",
    "equity_vol=pd.read_excel(\"climate_transition_risk.xlsx\",sheet_name=\"volatility\")\n",
    "Pricing_s=pd.read_excel(\"climate_transition_risk.xlsx\",sheet_name=\"NGFS Climate Scenarios\")"
   ]
  },
  {
   "cell_type": "code",
   "execution_count": 27,
   "metadata": {},
   "outputs": [],
   "source": [
    "#equity_vol['year_vola']"
   ]
  },
  {
   "cell_type": "code",
   "execution_count": 28,
   "metadata": {},
   "outputs": [],
   "source": [
    "## define constants\n",
    "r=0.05\n",
    "T=1"
   ]
  },
  {
   "cell_type": "code",
   "execution_count": 29,
   "metadata": {},
   "outputs": [],
   "source": [
    "## get mean close price from yr 2012-2021\n",
    "mean_equity=np.array(equity_his[\"Close Price\"].groupby(equity_his['yr']).mean())[:-1]\n",
    "## get share outstanding array in units, with 2012-2021\n",
    "shares_out=(np.array(dne[\"Shares Outstanding (Millions)\"])*1000000)[::-1]\n",
    "## get E value, with 2012-2021\n",
    "equity_his=mean_equity*shares_out\n",
    "## get E volatility, with 2012-2021\n",
    "sigma_e=np.array(equity_vol['year_vola'])[::-1][:-1]\n",
    "## get debt value based on short_term+1/2LTD, with 2012-2021\n",
    "debt_his=(np.array(dne[\"Short Term Debt (Millions)\"]*1000000+1/2*dne[\"Long Term Debt (Millions)\"]*1000000))[::-1]\n",
    "\n",
    "\n",
    "#note all array arrange from 2012-2021"
   ]
  },
  {
   "cell_type": "code",
   "execution_count": null,
   "metadata": {},
   "outputs": [],
   "source": []
  },
  {
   "cell_type": "markdown",
   "metadata": {},
   "source": [
    "d_p=(np.log(A/D)+(r+sigma_a**2/2)*T)/(sigma_a*np.sqrt(T))\n",
    "d_n=(np.log(A/D)+(r-sigma_a**2/2)*T)/(sigma_a*np.sqrt(T))\n",
    "E=A*norm.cdf(d_p)-np.exp(-r*T)*D*norm.cdf(d_n)\n",
    "E*sigma_e=A*sigma_a*norm.cdf(d_p)"
   ]
  },
  {
   "cell_type": "markdown",
   "metadata": {},
   "source": [
    "def func(x):\n",
    "    d_p=(np.log(x[0]/D)+(r+x[1]**2/2)*T)/(x[1]*np.sqrt(T))\n",
    "    d_n=(np.log(x[0]/D)+(r-x[1]**2/2)*T)/(x[1]*np.sqrt(T))\n",
    "    y=[x[0]*norm.cdf(d_p)-np.exp(-r*T)*D*norm.cdf(d_n)-E,\n",
    "            (x[0]*x[1]*norm.cdf(d_p))/(E*s_e)-1]\n",
    "    return y"
   ]
  },
  {
   "cell_type": "code",
   "execution_count": 30,
   "metadata": {},
   "outputs": [],
   "source": [
    "def func(x):\n",
    "    d_p=(np.log(x[0]/D)+(r+((x[1]**2)/2))*T)/(x[1]*np.sqrt(T))\n",
    "    d_n=(np.log(x[0]/D)+(r-((x[1]**2)/2))*T)/(x[1]*np.sqrt(T))\n",
    "    y=[x[0]*norm.cdf(d_p)-np.exp(-r*T)*D*norm.cdf(d_n)-E,\n",
    "            (x[0]*x[1]*norm.cdf(d_p))/(E*s_e)-1]\n",
    "    return y\n",
    "A=[]\n",
    "sigma_a=[]\n",
    "\n",
    "for i in range(len(debt_his)):\n",
    "    D=debt_his[i]\n",
    "    s_e=sigma_e[i]\n",
    "    E=equity_his[i]\n",
    "    root = fsolve(func, [E+D,0.01],xtol=1.49012e-08)\n",
    "    A.append(root[0])\n",
    "    sigma_a.append(root[1])\n",
    "    #s_a=root[1]\n",
    "    #A=root[0]\n",
    "    #d_n=(np.log(A/D)+(r-s_a**2/2)*T)/(s_a*np.sqrt(T))\n",
    "    #dp1=norm.cdf(-d_n)\n",
    "    #dp.append(dp1)"
   ]
  },
  {
   "cell_type": "code",
   "execution_count": 31,
   "metadata": {},
   "outputs": [
    {
     "name": "stdout",
     "output_type": "stream",
     "text": [
      "[4.42609763e-135 1.37560098e-114 5.87189181e-066 8.44055233e-030\n",
      " 7.56491859e-043 2.48905581e-115 2.08850920e-033 9.50459149e-042\n",
      " 1.66284116e-004 3.05702737e-018]\n"
     ]
    }
   ],
   "source": [
    "pd=np.array(norm.cdf(-(np.log(np.array(A)/debt_his)+(r-np.array(sigma_a)**2/2)*T)/(np.array(sigma_a)*np.sqrt(T))))\n",
    "print(pd)"
   ]
  },
  {
   "cell_type": "code",
   "execution_count": 32,
   "metadata": {},
   "outputs": [
    {
     "name": "stdout",
     "output_type": "stream",
     "text": [
      "[ 0.00000000e+00  3.05175781e-05  0.00000000e+00  0.00000000e+00\n",
      "  0.00000000e+00 -3.05175781e-05  0.00000000e+00  0.00000000e+00\n",
      "  2.71606445e-03  0.00000000e+00]\n"
     ]
    },
    {
     "data": {
      "text/plain": [
       "array([-1.80715054e-06, -9.96417027e-06, -1.27528408e-05, -2.49995706e-05,\n",
       "       -2.12188308e-05, -2.26458461e-05, -1.95997674e-05, -2.98511415e-05,\n",
       "       -2.64233080e-12, -2.32041948e-05])"
      ]
     },
     "execution_count": 32,
     "metadata": {},
     "output_type": "execute_result"
    }
   ],
   "source": [
    "# verify\n",
    "d_p=(np.log(np.array(A)/debt_his)+(r+np.array(sigma_a)**2/2)*T)/(np.array(sigma_a)*np.sqrt(T))\n",
    "d_n=(np.log(np.array(A)/debt_his)+(r-np.array(sigma_a)**2/2)*T)/(np.array(sigma_a)*np.sqrt(T))\n",
    "print(np.array(A)*norm.cdf(d_p)-np.exp(-r*T)*debt_his*norm.cdf(d_n)-equity_his)\n",
    "(np.array(A)*np.array(sigma_a)*norm.cdf(d_p))/(equity_his*sigma_e)-1"
   ]
  },
  {
   "cell_type": "code",
   "execution_count": 33,
   "metadata": {},
   "outputs": [
    {
     "data": {
      "text/plain": [
       "Text(0, 0.5, 'PD Value')"
      ]
     },
     "execution_count": 33,
     "metadata": {},
     "output_type": "execute_result"
    },
    {
     "data": {
      "image/png": "[encoded data removed]",
      "text/plain": [
       "<Figure size 640x480 with 1 Axes>"
      ]
     },
     "metadata": {},
     "output_type": "display_data"
    }
   ],
   "source": [
    "yr=np.arange(2012,2022,1)\n",
    "plt.plot(np.array(yr),np.array(pd))\n",
    "plt.xlabel(\"Year\")\n",
    "plt.ylabel(\"PD Value\")"
   ]
  },
  {
   "cell_type": "code",
   "execution_count": 34,
   "metadata": {
    "scrolled": true
   },
   "outputs": [
    {
     "ename": "PermissionError",
     "evalue": "[Errno 13] Permission denied: 'Asigma_Estimates.csv'",
     "output_type": "error",
     "traceback": [
      "\u001b[1;31m---------------------------------------------------------------------------\u001b[0m",
      "\u001b[1;31mPermissionError\u001b[0m                           Traceback (most recent call last)",
      "\u001b[1;32m~\\AppData\\Local\\Temp\\ipykernel_3000\\884153050.py\u001b[0m in \u001b[0;36m<module>\u001b[1;34m\u001b[0m\n\u001b[0;32m      6\u001b[0m \u001b[0mnewdf\u001b[0m\u001b[1;33m[\u001b[0m\u001b[1;34m\"PD\"\u001b[0m\u001b[1;33m]\u001b[0m \u001b[1;33m=\u001b[0m \u001b[0mnp\u001b[0m\u001b[1;33m.\u001b[0m\u001b[0marray\u001b[0m\u001b[1;33m(\u001b[0m\u001b[0mpd\u001b[0m\u001b[1;33m)\u001b[0m\u001b[1;33m\u001b[0m\u001b[1;33m\u001b[0m\u001b[0m\n\u001b[0;32m      7\u001b[0m \u001b[0mnewdf\u001b[0m\u001b[1;33m.\u001b[0m\u001b[0mhead\u001b[0m\u001b[1;33m(\u001b[0m\u001b[1;33m)\u001b[0m\u001b[1;33m\u001b[0m\u001b[1;33m\u001b[0m\u001b[0m\n\u001b[1;32m----> 8\u001b[1;33m \u001b[0mnewdf\u001b[0m\u001b[1;33m.\u001b[0m\u001b[0mto_csv\u001b[0m\u001b[1;33m(\u001b[0m\u001b[1;34m\"Asigma_Estimates.csv\"\u001b[0m\u001b[1;33m)\u001b[0m\u001b[1;33m\u001b[0m\u001b[1;33m\u001b[0m\u001b[0m\n\u001b[0m",
      "\u001b[1;32m~\\anaconda3\\lib\\site-packages\\pandas\\core\\generic.py\u001b[0m in \u001b[0;36mto_csv\u001b[1;34m(self, path_or_buf, sep, na_rep, float_format, columns, header, index, index_label, mode, encoding, compression, quoting, quotechar, line_terminator, chunksize, date_format, doublequote, escapechar, decimal, errors, storage_options)\u001b[0m\n\u001b[0;32m   3549\u001b[0m         )\n\u001b[0;32m   3550\u001b[0m \u001b[1;33m\u001b[0m\u001b[0m\n\u001b[1;32m-> 3551\u001b[1;33m         return DataFrameRenderer(formatter).to_csv(\n\u001b[0m\u001b[0;32m   3552\u001b[0m             \u001b[0mpath_or_buf\u001b[0m\u001b[1;33m,\u001b[0m\u001b[1;33m\u001b[0m\u001b[1;33m\u001b[0m\u001b[0m\n\u001b[0;32m   3553\u001b[0m             \u001b[0mline_terminator\u001b[0m\u001b[1;33m=\u001b[0m\u001b[0mline_terminator\u001b[0m\u001b[1;33m,\u001b[0m\u001b[1;33m\u001b[0m\u001b[1;33m\u001b[0m\u001b[0m\n",
      "\u001b[1;32m~\\anaconda3\\lib\\site-packages\\pandas\\io\\formats\\format.py\u001b[0m in \u001b[0;36mto_csv\u001b[1;34m(self, path_or_buf, encoding, sep, columns, index_label, mode, compression, quoting, quotechar, line_terminator, chunksize, date_format, doublequote, escapechar, errors, storage_options)\u001b[0m\n\u001b[0;32m   1178\u001b[0m             \u001b[0mformatter\u001b[0m\u001b[1;33m=\u001b[0m\u001b[0mself\u001b[0m\u001b[1;33m.\u001b[0m\u001b[0mfmt\u001b[0m\u001b[1;33m,\u001b[0m\u001b[1;33m\u001b[0m\u001b[1;33m\u001b[0m\u001b[0m\n\u001b[0;32m   1179\u001b[0m         )\n\u001b[1;32m-> 1180\u001b[1;33m         \u001b[0mcsv_formatter\u001b[0m\u001b[1;33m.\u001b[0m\u001b[0msave\u001b[0m\u001b[1;33m(\u001b[0m\u001b[1;33m)\u001b[0m\u001b[1;33m\u001b[0m\u001b[1;33m\u001b[0m\u001b[0m\n\u001b[0m\u001b[0;32m   1181\u001b[0m \u001b[1;33m\u001b[0m\u001b[0m\n\u001b[0;32m   1182\u001b[0m         \u001b[1;32mif\u001b[0m \u001b[0mcreated_buffer\u001b[0m\u001b[1;33m:\u001b[0m\u001b[1;33m\u001b[0m\u001b[1;33m\u001b[0m\u001b[0m\n",
      "\u001b[1;32m~\\anaconda3\\lib\\site-packages\\pandas\\io\\formats\\csvs.py\u001b[0m in \u001b[0;36msave\u001b[1;34m(self)\u001b[0m\n\u001b[0;32m    239\u001b[0m         \"\"\"\n\u001b[0;32m    240\u001b[0m         \u001b[1;31m# apply compression and byte/text conversion\u001b[0m\u001b[1;33m\u001b[0m\u001b[1;33m\u001b[0m\u001b[0m\n\u001b[1;32m--> 241\u001b[1;33m         with get_handle(\n\u001b[0m\u001b[0;32m    242\u001b[0m             \u001b[0mself\u001b[0m\u001b[1;33m.\u001b[0m\u001b[0mfilepath_or_buffer\u001b[0m\u001b[1;33m,\u001b[0m\u001b[1;33m\u001b[0m\u001b[1;33m\u001b[0m\u001b[0m\n\u001b[0;32m    243\u001b[0m             \u001b[0mself\u001b[0m\u001b[1;33m.\u001b[0m\u001b[0mmode\u001b[0m\u001b[1;33m,\u001b[0m\u001b[1;33m\u001b[0m\u001b[1;33m\u001b[0m\u001b[0m\n",
      "\u001b[1;32m~\\anaconda3\\lib\\site-packages\\pandas\\io\\common.py\u001b[0m in \u001b[0;36mget_handle\u001b[1;34m(path_or_buf, mode, encoding, compression, memory_map, is_text, errors, storage_options)\u001b[0m\n\u001b[0;32m    784\u001b[0m         \u001b[1;32mif\u001b[0m \u001b[0mioargs\u001b[0m\u001b[1;33m.\u001b[0m\u001b[0mencoding\u001b[0m \u001b[1;32mand\u001b[0m \u001b[1;34m\"b\"\u001b[0m \u001b[1;32mnot\u001b[0m \u001b[1;32min\u001b[0m \u001b[0mioargs\u001b[0m\u001b[1;33m.\u001b[0m\u001b[0mmode\u001b[0m\u001b[1;33m:\u001b[0m\u001b[1;33m\u001b[0m\u001b[1;33m\u001b[0m\u001b[0m\n\u001b[0;32m    785\u001b[0m             \u001b[1;31m# Encoding\u001b[0m\u001b[1;33m\u001b[0m\u001b[1;33m\u001b[0m\u001b[0m\n\u001b[1;32m--> 786\u001b[1;33m             handle = open(\n\u001b[0m\u001b[0;32m    787\u001b[0m                 \u001b[0mhandle\u001b[0m\u001b[1;33m,\u001b[0m\u001b[1;33m\u001b[0m\u001b[1;33m\u001b[0m\u001b[0m\n\u001b[0;32m    788\u001b[0m                 \u001b[0mioargs\u001b[0m\u001b[1;33m.\u001b[0m\u001b[0mmode\u001b[0m\u001b[1;33m,\u001b[0m\u001b[1;33m\u001b[0m\u001b[1;33m\u001b[0m\u001b[0m\n",
      "\u001b[1;31mPermissionError\u001b[0m: [Errno 13] Permission denied: 'Asigma_Estimates.csv'"
     ]
    }
   ],
   "source": [
    "import pandas as pd\n",
    "newdf = pd.DataFrame()\n",
    "newdf[\"Year\"] = dne[\"Year\"][::-1]\n",
    "newdf[\"A\"] = A\n",
    "newdf[\"sigma\"] = sigma_a\n",
    "#newdf[\"PD\"] = np.array(pd)\n",
    "newdf.head()\n",
    "newdf.to_csv(\"Asigma_Estimates.csv\")"
   ]
  },
  {
   "cell_type": "code",
   "execution_count": 35,
   "metadata": {},
   "outputs": [
    {
     "name": "stdout",
     "output_type": "stream",
     "text": [
      "[2.75772319e+11]\n"
     ]
    }
   ],
   "source": [
    "#new emission A estimate\n",
    "D=np.mean(debt_his)\n",
    "s_e=np.mean(sigma_e)\n",
    "E= np.mean(equity_his)\n",
    "s_a = np.mean(sigma_a)\n",
    "def func(x):\n",
    "    d_p=(np.log(x/D)+(r+((s_a**2)/2))*T)/(s_a*np.sqrt(T))\n",
    "    d_n=(np.log(x/D)+(r-((s_a**2)/2))*T)/(s_a*np.sqrt(T))\n",
    "    y=x[0]*norm.cdf(d_p)-np.exp(-r*T)*D*norm.cdf(d_n)-E\n",
    "    return y\n",
    "root = fsolve(func, E+D,xtol=1.49012e-08)\n",
    "print(root)\n",
    "A_est = root\n",
    "E1 = 112 * 1000000/2\n",
    "E2 = 112* 1000000/2\n",
    "E3 = 650* 1000000"
   ]
  },
  {
   "cell_type": "code",
   "execution_count": 36,
   "metadata": {
    "scrolled": true
   },
   "outputs": [
    {
     "name": "stderr",
     "output_type": "stream",
     "text": [
      "C:\\Users\\mlab_3\\anaconda3\\lib\\site-packages\\pandas\\core\\arraylike.py:397: RuntimeWarning: invalid value encountered in log\n",
      "  result = getattr(ufunc, method)(*inputs, **kwargs)\n"
     ]
    },
    {
     "data": {
      "text/html": [
       "<div>\n",
       "<style scoped>\n",
       "    .dataframe tbody tr th:only-of-type {\n",
       "        vertical-align: middle;\n",
       "    }\n",
       "\n",
       "    .dataframe tbody tr th {\n",
       "        vertical-align: top;\n",
       "    }\n",
       "\n",
       "    .dataframe thead th {\n",
       "        text-align: right;\n",
       "    }\n",
       "</style>\n",
       "<table border=\"1\" class=\"dataframe\">\n",
       "  <thead>\n",
       "    <tr style=\"text-align: right;\">\n",
       "      <th></th>\n",
       "      <th>Time</th>\n",
       "      <th>Scenario</th>\n",
       "      <th>Carbon price (US$2010/t CO2)</th>\n",
       "      <th>Cost E12</th>\n",
       "      <th>Cost E3</th>\n",
       "      <th>Reduced Asset E12</th>\n",
       "      <th>Reduced Asset E123</th>\n",
       "      <th>A/D E12</th>\n",
       "      <th>A/D E123</th>\n",
       "      <th>PD E12</th>\n",
       "      <th>PD E123</th>\n",
       "    </tr>\n",
       "  </thead>\n",
       "  <tbody>\n",
       "    <tr>\n",
       "      <th>0</th>\n",
       "      <td>2025</td>\n",
       "      <td>Nationally Determined Contributions (NDCs)</td>\n",
       "      <td>25.653253</td>\n",
       "      <td>2.873164e+09</td>\n",
       "      <td>1.667461e+10</td>\n",
       "      <td>2.728992e+11</td>\n",
       "      <td>2.562245e+11</td>\n",
       "      <td>10.158791</td>\n",
       "      <td>9.538071</td>\n",
       "      <td>6.558752e-34</td>\n",
       "      <td>3.213386e-32</td>\n",
       "    </tr>\n",
       "    <tr>\n",
       "      <th>1</th>\n",
       "      <td>2030</td>\n",
       "      <td>Nationally Determined Contributions (NDCs)</td>\n",
       "      <td>76.732026</td>\n",
       "      <td>8.593987e+09</td>\n",
       "      <td>4.987582e+10</td>\n",
       "      <td>2.671783e+11</td>\n",
       "      <td>2.173025e+11</td>\n",
       "      <td>9.945831</td>\n",
       "      <td>8.089182</td>\n",
       "      <td>2.453669e-33</td>\n",
       "      <td>5.126190e-28</td>\n",
       "    </tr>\n",
       "    <tr>\n",
       "      <th>2</th>\n",
       "      <td>2035</td>\n",
       "      <td>Nationally Determined Contributions (NDCs)</td>\n",
       "      <td>86.903496</td>\n",
       "      <td>9.733192e+09</td>\n",
       "      <td>5.648727e+10</td>\n",
       "      <td>2.660391e+11</td>\n",
       "      <td>2.095519e+11</td>\n",
       "      <td>9.903423</td>\n",
       "      <td>7.800660</td>\n",
       "      <td>3.197138e-33</td>\n",
       "      <td>3.932037e-27</td>\n",
       "    </tr>\n",
       "    <tr>\n",
       "      <th>3</th>\n",
       "      <td>2040</td>\n",
       "      <td>Nationally Determined Contributions (NDCs)</td>\n",
       "      <td>88.807857</td>\n",
       "      <td>9.946480e+09</td>\n",
       "      <td>5.772511e+10</td>\n",
       "      <td>2.658258e+11</td>\n",
       "      <td>2.081007e+11</td>\n",
       "      <td>9.895484</td>\n",
       "      <td>7.746641</td>\n",
       "      <td>3.359802e-33</td>\n",
       "      <td>5.783605e-27</td>\n",
       "    </tr>\n",
       "    <tr>\n",
       "      <th>4</th>\n",
       "      <td>2045</td>\n",
       "      <td>Nationally Determined Contributions (NDCs)</td>\n",
       "      <td>90.712219</td>\n",
       "      <td>1.015977e+10</td>\n",
       "      <td>5.896294e+10</td>\n",
       "      <td>2.656126e+11</td>\n",
       "      <td>2.066496e+11</td>\n",
       "      <td>9.887544</td>\n",
       "      <td>7.692622</td>\n",
       "      <td>3.530822e-33</td>\n",
       "      <td>8.519156e-27</td>\n",
       "    </tr>\n",
       "  </tbody>\n",
       "</table>\n",
       "</div>"
      ],
      "text/plain": [
       "   Time                                     Scenario  \\\n",
       "0  2025  Nationally Determined Contributions (NDCs)    \n",
       "1  2030  Nationally Determined Contributions (NDCs)    \n",
       "2  2035  Nationally Determined Contributions (NDCs)    \n",
       "3  2040  Nationally Determined Contributions (NDCs)    \n",
       "4  2045  Nationally Determined Contributions (NDCs)    \n",
       "\n",
       "   Carbon price (US$2010/t CO2)      Cost E12       Cost E3  \\\n",
       "0                     25.653253  2.873164e+09  1.667461e+10   \n",
       "1                     76.732026  8.593987e+09  4.987582e+10   \n",
       "2                     86.903496  9.733192e+09  5.648727e+10   \n",
       "3                     88.807857  9.946480e+09  5.772511e+10   \n",
       "4                     90.712219  1.015977e+10  5.896294e+10   \n",
       "\n",
       "   Reduced Asset E12  Reduced Asset E123    A/D E12  A/D E123        PD E12  \\\n",
       "0       2.728992e+11        2.562245e+11  10.158791  9.538071  6.558752e-34   \n",
       "1       2.671783e+11        2.173025e+11   9.945831  8.089182  2.453669e-33   \n",
       "2       2.660391e+11        2.095519e+11   9.903423  7.800660  3.197138e-33   \n",
       "3       2.658258e+11        2.081007e+11   9.895484  7.746641  3.359802e-33   \n",
       "4       2.656126e+11        2.066496e+11   9.887544  7.692622  3.530822e-33   \n",
       "\n",
       "        PD E123  \n",
       "0  3.213386e-32  \n",
       "1  5.126190e-28  \n",
       "2  3.932037e-27  \n",
       "3  5.783605e-27  \n",
       "4  8.519156e-27  "
      ]
     },
     "execution_count": 36,
     "metadata": {},
     "output_type": "execute_result"
    }
   ],
   "source": [
    "Pricing_s[\"Cost E12\"] = Pricing_s[\"Carbon price (US$2010/t CO2)\"] * (E1+E2)\n",
    "Pricing_s[\"Cost E3\"]= Pricing_s[\"Carbon price (US$2010/t CO2)\"] * (E3)\n",
    "Pricing_s[\"Reduced Asset E12\"] = A_est - Pricing_s[\"Cost E12\"]\n",
    "Pricing_s[\"Reduced Asset E123\"] = A_est - Pricing_s[\"Cost E12\"]  - Pricing_s[\"Cost E3\"]\n",
    "Pricing_s[\"A/D E12\"] = Pricing_s[\"Reduced Asset E12\"]/D\n",
    "Pricing_s[\"A/D E123\"] = Pricing_s[\"Reduced Asset E123\"]/D\n",
    "pd12=norm.cdf(-(np.log(Pricing_s[\"Reduced Asset E12\"]/D)+(r-np.array(s_a)**2/2)*T)/(np.array(s_a)*np.sqrt(T)))\n",
    "pd123=norm.cdf(-(np.log(Pricing_s[\"Reduced Asset E123\"]/D)+(r-np.array(s_a)**2/2)*T)/(np.array(s_a)*np.sqrt(T)))\n",
    "Pricing_s[\"PD E12\"] = pd12\n",
    "Pricing_s[\"PD E123\"] = pd123\n",
    "Pricing_s.head()"
   ]
  },
  {
   "cell_type": "code",
   "execution_count": 39,
   "metadata": {},
   "outputs": [],
   "source": [
    "Pricing_s.to_csv(\"Senarios_constant.csv\")"
   ]
  },
  {
   "cell_type": "code",
   "execution_count": 40,
   "metadata": {},
   "outputs": [
    {
     "name": "stderr",
     "output_type": "stream",
     "text": [
      "C:\\Users\\mlab_3\\anaconda3\\lib\\site-packages\\pandas\\core\\arraylike.py:397: RuntimeWarning: invalid value encountered in log\n",
      "  result = getattr(ufunc, method)(*inputs, **kwargs)\n"
     ]
    },
    {
     "data": {
      "text/html": [
       "<div>\n",
       "<style scoped>\n",
       "    .dataframe tbody tr th:only-of-type {\n",
       "        vertical-align: middle;\n",
       "    }\n",
       "\n",
       "    .dataframe tbody tr th {\n",
       "        vertical-align: top;\n",
       "    }\n",
       "\n",
       "    .dataframe thead th {\n",
       "        text-align: right;\n",
       "    }\n",
       "</style>\n",
       "<table border=\"1\" class=\"dataframe\">\n",
       "  <thead>\n",
       "    <tr style=\"text-align: right;\">\n",
       "      <th></th>\n",
       "      <th>Time</th>\n",
       "      <th>Scenario</th>\n",
       "      <th>Carbon price (US$2010/t CO2)</th>\n",
       "      <th>E12 Emission</th>\n",
       "      <th>Cost E12</th>\n",
       "      <th>Cost E3</th>\n",
       "      <th>Reduced Asset E12</th>\n",
       "      <th>Reduced Asset E123</th>\n",
       "      <th>A/D E12</th>\n",
       "      <th>A/D E123</th>\n",
       "      <th>PD E12</th>\n",
       "      <th>PD E123</th>\n",
       "    </tr>\n",
       "  </thead>\n",
       "  <tbody>\n",
       "    <tr>\n",
       "      <th>0</th>\n",
       "      <td>2025</td>\n",
       "      <td>Nationally Determined Contributions (NDCs)</td>\n",
       "      <td>25.653253</td>\n",
       "      <td>112000000.0</td>\n",
       "      <td>2.873164e+09</td>\n",
       "      <td>1.667461e+10</td>\n",
       "      <td>2.728992e+11</td>\n",
       "      <td>2.562245e+11</td>\n",
       "      <td>10.158791</td>\n",
       "      <td>9.538071</td>\n",
       "      <td>6.558752e-34</td>\n",
       "      <td>3.213386e-32</td>\n",
       "    </tr>\n",
       "    <tr>\n",
       "      <th>1</th>\n",
       "      <td>2030</td>\n",
       "      <td>Nationally Determined Contributions (NDCs)</td>\n",
       "      <td>76.732026</td>\n",
       "      <td>89600000.0</td>\n",
       "      <td>6.875190e+09</td>\n",
       "      <td>4.987582e+10</td>\n",
       "      <td>2.688971e+11</td>\n",
       "      <td>2.190213e+11</td>\n",
       "      <td>10.009814</td>\n",
       "      <td>8.153165</td>\n",
       "      <td>1.647871e-33</td>\n",
       "      <td>3.279972e-28</td>\n",
       "    </tr>\n",
       "    <tr>\n",
       "      <th>2</th>\n",
       "      <td>2035</td>\n",
       "      <td>Nationally Determined Contributions (NDCs)</td>\n",
       "      <td>86.903496</td>\n",
       "      <td>67200000.0</td>\n",
       "      <td>5.839915e+09</td>\n",
       "      <td>5.648727e+10</td>\n",
       "      <td>2.699324e+11</td>\n",
       "      <td>2.134451e+11</td>\n",
       "      <td>10.048352</td>\n",
       "      <td>7.945589</td>\n",
       "      <td>1.297458e-33</td>\n",
       "      <td>1.406109e-27</td>\n",
       "    </tr>\n",
       "    <tr>\n",
       "      <th>3</th>\n",
       "      <td>2040</td>\n",
       "      <td>Nationally Determined Contributions (NDCs)</td>\n",
       "      <td>88.807857</td>\n",
       "      <td>44800000.0</td>\n",
       "      <td>3.978592e+09</td>\n",
       "      <td>5.772511e+10</td>\n",
       "      <td>2.717937e+11</td>\n",
       "      <td>2.140686e+11</td>\n",
       "      <td>10.117641</td>\n",
       "      <td>7.968798</td>\n",
       "      <td>8.452686e-34</td>\n",
       "      <td>1.193718e-27</td>\n",
       "    </tr>\n",
       "    <tr>\n",
       "      <th>4</th>\n",
       "      <td>2045</td>\n",
       "      <td>Nationally Determined Contributions (NDCs)</td>\n",
       "      <td>90.712219</td>\n",
       "      <td>22400000.0</td>\n",
       "      <td>2.031954e+09</td>\n",
       "      <td>5.896294e+10</td>\n",
       "      <td>2.737404e+11</td>\n",
       "      <td>2.147774e+11</td>\n",
       "      <td>10.190105</td>\n",
       "      <td>7.995184</td>\n",
       "      <td>5.409466e-34</td>\n",
       "      <td>9.912590e-28</td>\n",
       "    </tr>\n",
       "  </tbody>\n",
       "</table>\n",
       "</div>"
      ],
      "text/plain": [
       "   Time                                     Scenario  \\\n",
       "0  2025  Nationally Determined Contributions (NDCs)    \n",
       "1  2030  Nationally Determined Contributions (NDCs)    \n",
       "2  2035  Nationally Determined Contributions (NDCs)    \n",
       "3  2040  Nationally Determined Contributions (NDCs)    \n",
       "4  2045  Nationally Determined Contributions (NDCs)    \n",
       "\n",
       "   Carbon price (US$2010/t CO2)  E12 Emission      Cost E12       Cost E3  \\\n",
       "0                     25.653253   112000000.0  2.873164e+09  1.667461e+10   \n",
       "1                     76.732026    89600000.0  6.875190e+09  4.987582e+10   \n",
       "2                     86.903496    67200000.0  5.839915e+09  5.648727e+10   \n",
       "3                     88.807857    44800000.0  3.978592e+09  5.772511e+10   \n",
       "4                     90.712219    22400000.0  2.031954e+09  5.896294e+10   \n",
       "\n",
       "   Reduced Asset E12  Reduced Asset E123    A/D E12  A/D E123        PD E12  \\\n",
       "0       2.728992e+11        2.562245e+11  10.158791  9.538071  6.558752e-34   \n",
       "1       2.688971e+11        2.190213e+11  10.009814  8.153165  1.647871e-33   \n",
       "2       2.699324e+11        2.134451e+11  10.048352  7.945589  1.297458e-33   \n",
       "3       2.717937e+11        2.140686e+11  10.117641  7.968798  8.452686e-34   \n",
       "4       2.737404e+11        2.147774e+11  10.190105  7.995184  5.409466e-34   \n",
       "\n",
       "        PD E123  \n",
       "0  3.213386e-32  \n",
       "1  3.279972e-28  \n",
       "2  1.406109e-27  \n",
       "3  1.193718e-27  \n",
       "4  9.912590e-28  "
      ]
     },
     "execution_count": 40,
     "metadata": {},
     "output_type": "execute_result"
    }
   ],
   "source": [
    "Pricing_s=pd.read_excel(\"climate_transition_risk.xlsx\",sheet_name=\"NGFS Climate Scenarios\")\n",
    "E12_s = np.linspace(0, E1+E2, 6)[::-1]\n",
    "E12_s = np.concatenate([E12_s, E12_s, E12_s])\n",
    "Pricing_s[\"E12 Emission\"] = E12_s\n",
    "Pricing_s[\"Cost E12\"] = Pricing_s[\"Carbon price (US$2010/t CO2)\"] * E12_s\n",
    "Pricing_s[\"Cost E3\"]= Pricing_s[\"Carbon price (US$2010/t CO2)\"] * (E3)\n",
    "Pricing_s[\"Reduced Asset E12\"] = A_est - Pricing_s[\"Cost E12\"]\n",
    "Pricing_s[\"Reduced Asset E123\"] = A_est - Pricing_s[\"Cost E12\"]  - Pricing_s[\"Cost E3\"]\n",
    "Pricing_s[\"A/D E12\"] = Pricing_s[\"Reduced Asset E12\"]/D\n",
    "Pricing_s[\"A/D E123\"] = Pricing_s[\"Reduced Asset E123\"]/D\n",
    "pd12=norm.cdf(-(np.log(Pricing_s[\"Reduced Asset E12\"]/D)+(r-np.array(s_a)**2/2)*T)/(np.array(s_a)*np.sqrt(T)))\n",
    "pd123=norm.cdf(-(np.log(Pricing_s[\"Reduced Asset E123\"]/D)+(r-np.array(s_a)**2/2)*T)/(np.array(s_a)*np.sqrt(T)))\n",
    "Pricing_s[\"PD E12\"] = pd12\n",
    "Pricing_s[\"PD E123\"] = pd123\n",
    "Pricing_s.head()"
   ]
  },
  {
   "cell_type": "code",
   "execution_count": 41,
   "metadata": {},
   "outputs": [],
   "source": [
    "Pricing_s.to_csv(\"Senarios_stepwise.csv\")"
   ]
  },
  {
   "cell_type": "code",
   "execution_count": null,
   "metadata": {},
   "outputs": [],
   "source": []
  }
 ],
 "metadata": {
  "kernelspec": {
   "display_name": "Python 3 (ipykernel)",
   "language": "python",
   "name": "python3"
  },
  "language_info": {
   "codemirror_mode": {
    "name": "ipython",
    "version": 3
   },
   "file_extension": ".py",
   "mimetype": "text/x-python",
   "name": "python",
   "nbconvert_exporter": "python",
   "pygments_lexer": "ipython3",
   "version": "3.9.13"
  }
 },
 "nbformat": 4,
 "nbformat_minor": 4
}
