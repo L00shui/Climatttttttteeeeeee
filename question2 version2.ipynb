{
 "cells": [
  {
   "cell_type": "code",
   "execution_count": 214,
   "metadata": {},
   "outputs": [],
   "source": [
    "import numpy as np\n",
    "import pandas as pd\n",
    "from scipy.optimize import fsolve\n",
    "from scipy.stats import norm\n",
    "import matplotlib.pyplot as plt"
   ]
  },
  {
   "cell_type": "code",
   "execution_count": 215,
   "metadata": {},
   "outputs": [],
   "source": [
    "equity_his=pd.read_excel(\"climate_transition_risk.xlsx\")\n",
    "dne=pd.read_excel(\"climate_transition_risk.xlsx\",sheet_name=\"Exxon Financial Info\")\n",
    "equity_vol=pd.read_excel(\"climate_transition_risk.xlsx\",sheet_name=\"volatility\")"
   ]
  },
  {
   "cell_type": "code",
   "execution_count": 216,
   "metadata": {},
   "outputs": [],
   "source": [
    "#equity_vol['year_vola']"
   ]
  },
  {
   "cell_type": "code",
   "execution_count": 217,
   "metadata": {},
   "outputs": [],
   "source": [
    "## define constants\n",
    "r=0.05\n",
    "T=1"
   ]
  },
  {
   "cell_type": "code",
   "execution_count": 218,
   "metadata": {},
   "outputs": [],
   "source": [
    "## get mean close price from yr 2012-2021\n",
    "mean_equity=np.array(equity_his[\"Close Price\"].groupby(equity_his['yr']).mean())[:-1]\n",
    "## get share outstanding array in units, with 2012-2021\n",
    "shares_out=(np.array(dne[\"Shares Outstanding (Millions)\"])*1000000)[::-1]\n",
    "## get E value, with 2012-2021\n",
    "equity_his=mean_equity*shares_out\n",
    "## get E volatility, with 2012-2021\n",
    "sigma_e=np.array(equity_vol['year_vola'])[::-1][:-1]\n",
    "## get debt value based on short_term+1/2LTD, with 2012-2021\n",
    "debt_his=(np.array(dne[\"Short Term Debt (Millions)\"]*1000000+1/2*dne[\"Long Term Debt (Millions)\"]*1000000))[::-1]\n",
    "\n",
    "\n",
    "#note all array arrange from 2012-2021"
   ]
  },
  {
   "cell_type": "markdown",
   "metadata": {},
   "source": [
    "d_p=(np.log(A/D)+(r+sigma_a**2/2)*T)/(sigma_a*np.sqrt(T))\n",
    "d_n=(np.log(A/D)+(r-sigma_a**2/2)*T)/(sigma_a*np.sqrt(T))\n",
    "E=A*norm.cdf(d_p)-np.exp(-r*T)*D*norm.cdf(d_n)\n",
    "E*sigma_e=A*sigma_a*norm.cdf(d_p)"
   ]
  },
  {
   "cell_type": "markdown",
   "metadata": {},
   "source": [
    "def func(x):\n",
    "    d_p=(np.log(x[0]/D)+(r+x[1]**2/2)*T)/(x[1]*np.sqrt(T))\n",
    "    d_n=(np.log(x[0]/D)+(r-x[1]**2/2)*T)/(x[1]*np.sqrt(T))\n",
    "    y=[x[0]*norm.cdf(d_p)-np.exp(-r*T)*D*norm.cdf(d_n)-E,\n",
    "            (x[0]*x[1]*norm.cdf(d_p))/(E*s_e)-1]\n",
    "    return y"
   ]
  },
  {
   "cell_type": "code",
   "execution_count": 219,
   "metadata": {},
   "outputs": [],
   "source": [
    "def func(x):\n",
    "    d_p=(np.log(x[0]/D)+(r+x[1]**2/2)*T)/(x[1]*np.sqrt(T))\n",
    "    d_n=(np.log(x[0]/D)+(r-x[1]**2/2)*T)/(x[1]*np.sqrt(T))\n",
    "    y=[x[0]*norm.cdf(d_p)-np.exp(-r*T)*D*norm.cdf(d_n)-E,\n",
    "            (x[0]*x[1]*norm.cdf(d_p))/(E*s_e)-1]\n",
    "    return y\n",
    "A=[]\n",
    "sigma_a=[]\n",
    "\n",
    "for i in range(len(debt_his)):\n",
    "    D=debt_his[i]\n",
    "    s_e=sigma_e[i]\n",
    "    E=equity_his[i]\n",
    "    root = fsolve(func, [E+D,0.01],xtol=1.49012e-08)\n",
    "    A.append(root[0])\n",
    "    sigma_a.append(root[1])\n",
    "    #s_a=root[1]\n",
    "    #A=root[0]\n",
    "    #d_n=(np.log(A/D)+(r-s_a**2/2)*T)/(s_a*np.sqrt(T))\n",
    "    #dp1=norm.cdf(-d_n)\n",
    "    #dp.append(dp1)"
   ]
  },
  {
   "cell_type": "code",
   "execution_count": 220,
   "metadata": {},
   "outputs": [
    {
     "name": "stdout",
     "output_type": "stream",
     "text": [
      "[4.42609763e-135 1.37560098e-114 5.87189181e-066 8.44055233e-030\n",
      " 7.56491859e-043 2.48905581e-115 2.08850920e-033 9.50459149e-042\n",
      " 1.66284116e-004 3.05702737e-018]\n"
     ]
    }
   ],
   "source": [
    "pd=np.array(norm.cdf(-(np.log(np.array(A)/debt_his)+(r-np.array(sigma_a)**2/2)*T)/(np.array(sigma_a)*np.sqrt(T))))\n",
    "print(pd)"
   ]
  },
  {
   "cell_type": "code",
   "execution_count": 222,
   "metadata": {},
   "outputs": [
    {
     "name": "stdout",
     "output_type": "stream",
     "text": [
      "[ 0.00000000e+00  3.05175781e-05  0.00000000e+00  0.00000000e+00\n",
      "  0.00000000e+00 -3.05175781e-05  0.00000000e+00  0.00000000e+00\n",
      "  2.71606445e-03  0.00000000e+00]\n"
     ]
    },
    {
     "data": {
      "text/plain": [
       "array([-1.80715054e-06, -9.96417027e-06, -1.27528408e-05, -2.49995706e-05,\n",
       "       -2.12188308e-05, -2.26458461e-05, -1.95997674e-05, -2.98511415e-05,\n",
       "       -2.64233080e-12, -2.32041948e-05])"
      ]
     },
     "execution_count": 222,
     "metadata": {},
     "output_type": "execute_result"
    }
   ],
   "source": [
    "# verify\n",
    "d_p=(np.log(np.array(A)/debt_his)+(r+np.array(sigma_a)**2/2)*T)/(np.array(sigma_a)*np.sqrt(T))\n",
    "d_n=(np.log(np.array(A)/debt_his)+(r-np.array(sigma_a)**2/2)*T)/(np.array(sigma_a)*np.sqrt(T))\n",
    "print(np.array(A)*norm.cdf(d_p)-np.exp(-r*T)*debt_his*norm.cdf(d_n)-equity_his)\n",
    "(np.array(A)*np.array(sigma_a)*norm.cdf(d_p))/(equity_his*sigma_e)-1"
   ]
  },
  {
   "cell_type": "code",
   "execution_count": 223,
   "metadata": {},
   "outputs": [
    {
     "data": {
      "text/plain": [
       "[<matplotlib.lines.Line2D at 0x7fcb0eed6750>]"
      ]
     },
     "execution_count": 223,
     "metadata": {},
     "output_type": "execute_result"
    },
    {
     "data": {
      "image/png": "[encoded data removed]",
      "text/plain": [
       "<Figure size 432x288 with 1 Axes>"
      ]
     },
     "metadata": {
      "needs_background": "light"
     },
     "output_type": "display_data"
    }
   ],
   "source": [
    "yr=np.arange(2012,2022,1)\n",
    "plt.plot(np.array(yr),np.array(pd))"
   ]
  },
  {
   "cell_type": "code",
   "execution_count": null,
   "metadata": {},
   "outputs": [],
   "source": []
  }
 ],
 "metadata": {
  "kernelspec": {
   "display_name": "Python 3",
   "language": "python",
   "name": "python3"
  },
  "language_info": {
   "codemirror_mode": {
    "name": "ipython",
    "version": 3
   },
   "file_extension": ".py",
   "mimetype": "text/x-python",
   "name": "python",
   "nbconvert_exporter": "python",
   "pygments_lexer": "ipython3",
   "version": "3.7.6"
  }
 },
 "nbformat": 4,
 "nbformat_minor": 4
}
